{
 "cells": [
  {
   "cell_type": "code",
   "execution_count": 21,
   "id": "a476e790-2ede-448a-82ef-0d7b8d77de38",
   "metadata": {},
   "outputs": [],
   "source": [
    "import pandas as pd\n",
    "import numpy as np\n",
    "\n",
    "from sklearn.model_selection import train_test_split\n",
    "from sklearn.tree import DecisionTreeClassifier\n",
    "from sklearn.linear_model import LogisticRegression\n",
    "from sklearn.dummy import DummyClassifier\n",
    "from sklearn.pipeline import Pipeline\n",
    "\n",
    "from sklearn.metrics import accuracy_score, precision_score, recall_score, f1_score, classification_report, roc_auc_score\n",
    "\n",
    "import joblib"
   ]
  },
  {
   "cell_type": "code",
   "execution_count": 36,
   "id": "74155823-62a1-4433-a38d-cc2b99d919dc",
   "metadata": {},
   "outputs": [],
   "source": [
    "class MachineLearningProcessor:\n",
    "    def __init__(self, model_name:str):\n",
    "    \t\tself.model_name=model_name\n",
    "    \t\tself.data=pd.read_csv(\"../data/heart.csv\")\n",
    "    \n",
    "    def pre_process_data(self):\n",
    "    \t\tself.preprocessed_data=self.data.drop(\"Sex\",\"ChestPainType\",\"RestingECG\",\"ExerciseAngina\",\"ST_Slope\",axis=1)\n",
    "            \n",
    "    def split_data(self):\n",
    "    \t\tX=self.preprocessed_data.drop(\"HeartDisease\",axis=1)\n",
    "    \t\ty=self.preprocessed_data(\"HeartDisease\")\n",
    "    \t\tself.X_train,self.y_train,self.X_test,self.y_test=train_test_split(X,y,random_state=100)\n",
    "    \n",
    "    def train(self_model):\n",
    "    \t\tself.split_data()\n",
    "    \t\tself.fitted_model=model.fit(self.X_train,self.y_train)\n",
    "    \n",
    "    def predict(self):\n",
    "    \t\tself.predictions=self.fitted_model.predict(self.X_test)\n",
    "    \t\tprint(classification_report(self.predictions,self.y_text))\n",
    "\n",
    "\n",
    "    "
   ]
  },
  {
   "cell_type": "code",
   "execution_count": 37,
   "id": "7404eeef-6b8a-4de1-87e5-24c6355d5e71",
   "metadata": {},
   "outputs": [
    {
     "name": "stdout",
     "output_type": "stream",
     "text": [
      "Juan de Dios was here\n"
     ]
    }
   ],
   "source": [
    "processor=MachineLearningProcessor(model_name=\"Model Baseline\")\n",
    "\n",
    "\n",
    "print(\"Juan de Dios was here\")"
   ]
  }
 ],
 "metadata": {
  "kernelspec": {
   "display_name": "Python 3 (ipykernel)",
   "language": "python",
   "name": "python3"
  },
  "language_info": {
   "codemirror_mode": {
    "name": "ipython",
    "version": 3
   },
   "file_extension": ".py",
   "mimetype": "text/x-python",
   "name": "python",
   "nbconvert_exporter": "python",
   "pygments_lexer": "ipython3",
   "version": "3.11.13"
  }
 },
 "nbformat": 4,
 "nbformat_minor": 5
}
